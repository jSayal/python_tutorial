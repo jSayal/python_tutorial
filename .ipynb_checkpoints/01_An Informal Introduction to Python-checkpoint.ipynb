{
 "cells": [
  {
   "cell_type": "markdown",
   "metadata": {},
   "source": [
    "# 1. Python3 Tutorial - An Informal Introduction to Python\n",
    "Most of this section is done in interactive session on REPL. Documented here for revision. Most of the examples in this section are very simple, and are meant to be as a starter for learning Python."
   ]
  },
  {
   "cell_type": "markdown",
   "metadata": {},
   "source": [
    "## Comments\n",
    "Comments in Python starts with ```#``` and continue till the end of physical line."
   ]
  },
  {
   "cell_type": "code",
   "execution_count": 3,
   "metadata": {},
   "outputs": [],
   "source": [
    "# This is a comment\n",
    "text = \"# This is not a comment, because it is part of the string.\""
   ]
  },
  {
   "cell_type": "markdown",
   "metadata": {},
   "source": [
    "## Numbers\n",
    "Python has two types of numbers, integers and floats. Integers are whole numbers and floats are decimal numbers. Let's look at some examples."
   ]
  },
  {
   "cell_type": "code",
   "execution_count": 8,
   "metadata": {},
   "outputs": [
    {
     "name": "stdout",
     "output_type": "stream",
     "text": [
      "Sum of ints = 66\n",
      "Sum of floats = 101.54555\n"
     ]
    }
   ],
   "source": [
    "num1 = 21\n",
    "num2 = 45\n",
    "sum_of_ints = num1 + num2\n",
    "print('Sum of ints = {}'.format(sum_of_ints))   # Formatted string\n",
    "\n",
    "f1 = 12.23232\n",
    "f2 = 89.31323\n",
    "sum_of_floats = f1 + f2;\n",
    "print('Sum of floats = {}'.format(sum_of_floats))"
   ]
  },
  {
   "cell_type": "markdown",
   "metadata": {},
   "source": [
    "### Numerical Operators\n",
    "In addition to usual arithmetic operators, ```+, -, /, *, %```, Python offers some convenient operators.\n",
    "\n",
    "```**```      Power\n",
    "```//```      Integer division (Simple division will always result in a float value).\n",
    "\n",
    "Order of arithmethic operations are the same as in general Mathematics. Python also offers support for Decimal, Fraction, and Complex Numbers, that we will cover in later sections.\n",
    "\n",
    "Python cannot add a number and a string. Following code, will result in TypeError.\n",
    "```Python\n",
    "'Hello' + 2\n",
    "```"
   ]
  },
  {
   "cell_type": "code",
   "execution_count": 10,
   "metadata": {},
   "outputs": [
    {
     "name": "stdout",
     "output_type": "stream",
     "text": [
      "121.0\n",
      "1\n",
      "3125\n",
      "1.5\n",
      "1\n"
     ]
    }
   ],
   "source": [
    "print(2 * 5 + 112 - 4 / 4)\n",
    "print(5 % 2)\n",
    "print(5 ** 5)\n",
    "print(3 / 2)\n",
    "print(3 // 2)  # Integer division"
   ]
  },
  {
   "cell_type": "markdown",
   "metadata": {},
   "source": [
    "## Strings\n",
    "Python strings are just sequence of characters enclosed in single(') or double(\") quotes. Single or double quoted strings are not multiline. Python offers triple(''') quoted strings for multiline text. Normally triple quoted strings are used for documentation.\n",
    "\n",
    "```\\``` can be used as escape characters in string. For any reason, if you want to skip string escaping use ```r'This string \\n will not be escaped'```."
   ]
  },
  {
   "cell_type": "code",
   "execution_count": 17,
   "metadata": {},
   "outputs": [
    {
     "data": {
      "text/plain": [
       "'Good Morning'"
      ]
     },
     "execution_count": 17,
     "metadata": {},
     "output_type": "execute_result"
    }
   ],
   "source": [
    "'Good Morning'"
   ]
  },
  {
   "cell_type": "code",
   "execution_count": 18,
   "metadata": {},
   "outputs": [
    {
     "data": {
      "text/plain": [
       "'Hello World'"
      ]
     },
     "execution_count": 18,
     "metadata": {},
     "output_type": "execute_result"
    }
   ],
   "source": [
    "\"Hello World\""
   ]
  },
  {
   "cell_type": "code",
   "execution_count": 23,
   "metadata": {},
   "outputs": [
    {
     "data": {
      "text/plain": [
       "'Hello World'"
      ]
     },
     "execution_count": 23,
     "metadata": {},
     "output_type": "execute_result"
    }
   ],
   "source": [
    "# Concatenating strings\n",
    "'Hello' + ' World'"
   ]
  },
  {
   "cell_type": "code",
   "execution_count": 33,
   "metadata": {},
   "outputs": [
    {
     "name": "stdout",
     "output_type": "stream",
     "text": [
      "Hello\n",
      "World\n",
      "Hello\tWorld\n"
     ]
    }
   ],
   "source": [
    "# Escaping strings\n",
    "text = \"Hello\\nWorld\"\n",
    "print(text)\n",
    "text = \"Hello\\tWorld\"\n",
    "print(text)"
   ]
  },
  {
   "cell_type": "markdown",
   "metadata": {},
   "source": [
    "**You can put strings side by side in parenthesis and Python will concatenate the strings.**"
   ]
  },
  {
   "cell_type": "code",
   "execution_count": 22,
   "metadata": {},
   "outputs": [
    {
     "name": "stdout",
     "output_type": "stream",
     "text": [
      "I am a little tea pot\n",
      "Put several stringsInside parenthesis to join them together.\n"
     ]
    }
   ],
   "source": [
    "# For strings on the same line, parenthesis is not required.\n",
    "text = \"I am a\" \" little tea pot\"\n",
    "print(text)\n",
    "\n",
    "# If strings are on multiple lines, use parenthesis - this only works with literals.\n",
    "text = (\"Put several strings\"\n",
    "        \"Inside parenthesis to join them together.\"\n",
    "       )\n",
    "print(text)"
   ]
  },
  {
   "cell_type": "markdown",
   "metadata": {},
   "source": [
    "**Strings can be Multiplied in Python**"
   ]
  },
  {
   "cell_type": "code",
   "execution_count": 25,
   "metadata": {
    "scrolled": false
   },
   "outputs": [
    {
     "name": "stdout",
     "output_type": "stream",
     "text": [
      "HelloHelloHelloHelloHello\n",
      "     Jahanzeb\n"
     ]
    }
   ],
   "source": [
    "# Multiplying strings\n",
    "print('Hello' * 5)\n",
    "print(' ' * 5 + 'Jahanzeb')  # Padding string with spaces"
   ]
  },
  {
   "cell_type": "markdown",
   "metadata": {},
   "source": [
    "**Raw strings**"
   ]
  },
  {
   "cell_type": "code",
   "execution_count": 28,
   "metadata": {},
   "outputs": [
    {
     "name": "stdout",
     "output_type": "stream",
     "text": [
      "This is line 1.\\n This is line 2\n"
     ]
    }
   ],
   "source": [
    "text = r\"This is line 1.\\n This is line 2\" # \\n escape will have no effect.\n",
    "print(text)"
   ]
  },
  {
   "cell_type": "markdown",
   "metadata": {},
   "source": [
    "**Find length of string**"
   ]
  },
  {
   "cell_type": "code",
   "execution_count": 30,
   "metadata": {},
   "outputs": [
    {
     "name": "stdout",
     "output_type": "stream",
     "text": [
      "35\n"
     ]
    }
   ],
   "source": [
    "# Using builtin len() function, we can find length of string.\n",
    "text = \"Python is very high level language.\"\n",
    "print(len(text))"
   ]
  },
  {
   "cell_type": "markdown",
   "metadata": {},
   "source": [
    "**There is no character type (char) in Python. Character is a string with size of 1.**\n",
    "\n",
    "Python strings are sequence types (we will cover this topic later), but for now just bear in mind that any sequence type in Python can be indexed and sliced. ```[]``` notation is used for indexing and slicing."
   ]
  },
  {
   "cell_type": "code",
   "execution_count": 34,
   "metadata": {},
   "outputs": [
    {
     "name": "stdout",
     "output_type": "stream",
     "text": [
      "J\n",
      "l\n"
     ]
    }
   ],
   "source": [
    "name = 'Jahanzeb Sayal'\n",
    "print(name[0])    # index starts at 0\n",
    "print(name[-1])   # -1 is the last index - index from left is +ve, and index from right is -ve starting at 1."
   ]
  },
  {
   "cell_type": "markdown",
   "metadata": {},
   "source": [
    "Strings are immutable data type, means once a string has been created, it cannot be changed. You assing a new string to a variable to change it's value."
   ]
  },
  {
   "cell_type": "code",
   "execution_count": 36,
   "metadata": {},
   "outputs": [],
   "source": [
    "name = 'Jahanzeb Sayal'\n",
    "name[0] = 'Z'     # Executing this statement will result in TypeError."
   ]
  },
  {
   "cell_type": "markdown",
   "metadata": {},
   "source": [
    "**Slicing Strings**\n",
    "\n",
    "Syntax for slicing strings is ```text[start:end:step]```, end index is excluded from substring. Visualization of Python string indices.\n",
    "```\n",
    "+---+---+---+---+---+---+\n",
    " | P | y | t | h | o | n |\n",
    " +---+---+---+---+---+---+\n",
    " 0   1   2   3   4   5   6\n",
    "-6  -5  -4  -3  -2  -1\n",
    "\n",
    "```"
   ]
  },
  {
   "cell_type": "code",
   "execution_count": 39,
   "metadata": {},
   "outputs": [
    {
     "name": "stdout",
     "output_type": "stream",
     "text": [
      "Th\n",
      "e q\n",
      "Th\n",
      "quick brown fox jumped over the lazy dog.\n",
      "g.\n",
      "\n"
     ]
    }
   ],
   "source": [
    "text = 'The quick brown fox jumped over the lazy dog.'\n",
    "print(text[0:2])\n",
    "print(text[2:5])\n",
    "print(text[:2])\n",
    "print(text[4:])\n",
    "print(text[-2:])\n",
    "\n",
    "# Out of bound indexes are handled very gracefully by Python by returning an empty string.\n",
    "print(text[135:]) # returns ''. Empty string"
   ]
  },
  {
   "cell_type": "markdown",
   "metadata": {},
   "source": [
    "**List data type is covered in details in 02_Python_Lists workbook**"
   ]
  }
 ],
 "metadata": {
  "kernelspec": {
   "display_name": "Python 3",
   "language": "python",
   "name": "python3"
  },
  "language_info": {
   "codemirror_mode": {
    "name": "ipython",
    "version": 3
   },
   "file_extension": ".py",
   "mimetype": "text/x-python",
   "name": "python",
   "nbconvert_exporter": "python",
   "pygments_lexer": "ipython3",
   "version": "3.6.5"
  }
 },
 "nbformat": 4,
 "nbformat_minor": 2
}
