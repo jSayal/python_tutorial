{
 "cells": [
  {
   "cell_type": "markdown",
   "metadata": {},
   "source": [
    "# Control Flow in Python\n",
    "For program control flow, Python offers ```if elif else``` and ```while and for loop```. Python does not have switch statements."
   ]
  },
  {
   "cell_type": "markdown",
   "metadata": {},
   "source": [
    "## If Statements"
   ]
  },
  {
   "cell_type": "code",
   "execution_count": 6,
   "metadata": {},
   "outputs": [
    {
     "name": "stdout",
     "output_type": "stream",
     "text": [
      "Please enter your age: 39\n",
      "You can buy cigrettes and alcohol\n"
     ]
    }
   ],
   "source": [
    "age = int(input('Please enter your age: '))\n",
    "if age >= 21:\n",
    "    print(\"You can buy cigrettes and alcohol\")\n",
    "elif age >= 18:\n",
    "    print(\"You can buy cigrettes\")\n",
    "else:\n",
    "    print(\"You are a minor\")"
   ]
  },
  {
   "cell_type": "markdown",
   "metadata": {},
   "source": [
    "**Python does not support ++ or -- uranary operators**"
   ]
  },
  {
   "cell_type": "markdown",
   "metadata": {},
   "source": [
    "## while loop"
   ]
  },
  {
   "cell_type": "code",
   "execution_count": 7,
   "metadata": {
    "scrolled": true
   },
   "outputs": [
    {
     "name": "stdout",
     "output_type": "stream",
     "text": [
      "0\n",
      "1\n",
      "1\n",
      "2\n",
      "3\n",
      "5\n",
      "8\n",
      "13\n"
     ]
    }
   ],
   "source": [
    "# Print Fibonacci numbers less than 20\n",
    "a, b = 0, 1\n",
    "while a < 20:\n",
    "    print(a)\n",
    "    a, b = b, a + b"
   ]
  },
  {
   "cell_type": "code",
   "execution_count": 4,
   "metadata": {},
   "outputs": [
    {
     "name": "stdout",
     "output_type": "stream",
     "text": [
      "0\n",
      "1\n",
      "2\n",
      "3\n",
      "4\n",
      "5\n",
      "6\n",
      "7\n",
      "8\n",
      "9\n",
      "10\n"
     ]
    }
   ],
   "source": [
    "# print numbers 0 to 10\n",
    "a = 0\n",
    "while a <= 10:\n",
    "    print(a)\n",
    "    a = a + 1   # cannot do a++ or ++a"
   ]
  },
  {
   "cell_type": "markdown",
   "metadata": {},
   "source": [
    "## for loop"
   ]
  },
  {
   "cell_type": "code",
   "execution_count": 5,
   "metadata": {},
   "outputs": [
    {
     "name": "stdout",
     "output_type": "stream",
     "text": [
      "cat\n",
      "dog\n",
      "rhinosaurus\n"
     ]
    }
   ],
   "source": [
    "words = ['cat', 'dog', 'rhinosaurus']\n",
    "for w in words:\n",
    "    print(w)"
   ]
  },
  {
   "cell_type": "markdown",
   "metadata": {},
   "source": [
    "If you need to modify list in a for loop, it is recommeded to create a copy of list. Using slicing we can easily create a copy of list."
   ]
  },
  {
   "cell_type": "code",
   "execution_count": 7,
   "metadata": {},
   "outputs": [
    {
     "name": "stdout",
     "output_type": "stream",
     "text": [
      "cat\n",
      "dog\n",
      "rhinosaurus\n",
      "Inserted rhinosaurus\n"
     ]
    },
    {
     "data": {
      "text/plain": [
       "['rhinosaurus', 'cat', 'dog', 'rhinosaurus']"
      ]
     },
     "execution_count": 7,
     "metadata": {},
     "output_type": "execute_result"
    }
   ],
   "source": [
    "words = ['cat', 'dog', 'rhinosaurus']\n",
    "for w in words[:]:\n",
    "    print(w)\n",
    "    if len(w) > 4:\n",
    "        words.insert(0, w)\n",
    "        print('Inserted {}'.format(w))\n",
    "words"
   ]
  },
  {
   "cell_type": "markdown",
   "metadata": {},
   "source": [
    "## range() function\n",
    "range() function is an iterator object is Python, means when this function is called it returns successive items of desired sequence. ```range()``` function is not the list. We can generate ```list``` from ```range``` function by using\n",
    "```Python\n",
    "list(range(10))\n",
    "# [0, 1, 2, 3, 4, 5, 6, 7, 8, 9]\n",
    "```\n",
    "\n",
    "```range``` function also comes in handy with for loops."
   ]
  },
  {
   "cell_type": "code",
   "execution_count": 8,
   "metadata": {},
   "outputs": [
    {
     "name": "stdout",
     "output_type": "stream",
     "text": [
      "0\n",
      "1\n",
      "2\n",
      "3\n",
      "4\n"
     ]
    }
   ],
   "source": [
    "for i in range(5):\n",
    "    print(i)"
   ]
  },
  {
   "cell_type": "code",
   "execution_count": 10,
   "metadata": {},
   "outputs": [
    {
     "name": "stdout",
     "output_type": "stream",
     "text": [
      "5\n",
      "6\n",
      "7\n",
      "8\n",
      "9\n"
     ]
    }
   ],
   "source": [
    "for i in range(5, 10):\n",
    "    print(i)"
   ]
  },
  {
   "cell_type": "code",
   "execution_count": 11,
   "metadata": {},
   "outputs": [
    {
     "name": "stdout",
     "output_type": "stream",
     "text": [
      "0 Mary\n",
      "1 had\n",
      "2 a\n",
      "3 little\n",
      "4 lamb\n"
     ]
    }
   ],
   "source": [
    "a = ['Mary', 'had', 'a', 'little', 'lamb']\n",
    "for i in range(len(a)):\n",
    "    print(i, a[i])"
   ]
  },
  {
   "cell_type": "code",
   "execution_count": 13,
   "metadata": {},
   "outputs": [
    {
     "name": "stdout",
     "output_type": "stream",
     "text": [
      "range(0, 10)\n",
      "<class 'range'>\n",
      "[0, 1, 2, 3, 4, 5, 6, 7, 8, 9]\n"
     ]
    }
   ],
   "source": [
    "print(range(10))\n",
    "print(type(range(10)))\n",
    "print(list(range(10)))"
   ]
  },
  {
   "cell_type": "markdown",
   "metadata": {},
   "source": [
    "**Loops can have also else clause & break statement**\n",
    "\n",
    "In the following code sampple, the inner for loop has an else clause. Loop's else clause is not triggered when loop is broken by using ```brake``` statement, else clause is triggered when inner loop is exhausted.\n",
    "\n",
    "```continue``` and ```break``` statements have the use, as it is in C."
   ]
  },
  {
   "cell_type": "code",
   "execution_count": 7,
   "metadata": {},
   "outputs": [
    {
     "name": "stdout",
     "output_type": "stream",
     "text": [
      "2 is a prime number\n",
      "3 is a prime number\n",
      "4 equals 2 * 2\n",
      "5 is a prime number\n",
      "6 equals 2 * 3\n",
      "7 is a prime number\n",
      "8 equals 2 * 4\n",
      "9 equals 3 * 3\n"
     ]
    }
   ],
   "source": [
    "for n in range(2, 10):\n",
    "    for x in range(2, n):\n",
    "        if n % x == 0:\n",
    "            print(n, 'equals', x, '*', n//x)\n",
    "            break;\n",
    "    else:\n",
    "        # Inner loop is exhausted, without finding a factor\n",
    "        print(n, 'is a prime number')\n"
   ]
  },
  {
   "cell_type": "code",
   "execution_count": 9,
   "metadata": {},
   "outputs": [
    {
     "name": "stdout",
     "output_type": "stream",
     "text": [
      "3\n",
      "5\n",
      "7\n",
      "9\n",
      "11\n",
      "13\n",
      "15\n",
      "17\n",
      "19\n"
     ]
    }
   ],
   "source": [
    "# Print only odd numbers, whenever there is an even number, loop skips over it using continue statement.\n",
    "for n in range(2, 20):\n",
    "    if n % 2 == 0:\n",
    "        continue;\n",
    "    print(n)"
   ]
  },
  {
   "cell_type": "markdown",
   "metadata": {},
   "source": [
    "## pass statement\n",
    "The ```pass``` statement does nothing. Commonly used as a placeholder code, or at places where code is required syntactically, but program requires no action."
   ]
  },
  {
   "cell_type": "code",
   "execution_count": 2,
   "metadata": {},
   "outputs": [],
   "source": [
    "# Empty class\n",
    "class MyEmptyClass:\n",
    "    pass\n",
    "\n",
    "\n",
    "# Empty function\n",
    "def someFunctionNotCodedYet():\n",
    "    pass\n",
    "\n",
    "# NOTE: classes and methods, will be discussed in later notebooks."
   ]
  },
  {
   "cell_type": "markdown",
   "metadata": {},
   "source": [
    "## Defining Functions\n",
    "A function is a group of statements that execute upon request. Python provides many builtin function and allows programmers to create their own functions. A request to execute function is called function call. In Python, a function always returns a value, it can be None or result of computation.\n",
    "\n",
    "Functions are first class objects in Python, means they are just like any other object in Python. Functions can be passed as argument to another function, a function can return a function, function can be bound to a variable, function can be an item in a container and can be attribute of an object.\n",
    "\n",
    "Functions are basic block of code reuse in python. It groups related set of statements so that they can be executed together.\n",
    "\n"
   ]
  },
  {
   "cell_type": "code",
   "execution_count": 11,
   "metadata": {},
   "outputs": [
    {
     "name": "stdout",
     "output_type": "stream",
     "text": [
      "0 1 1 2 3 5 8 13 21 34 55 89 144 "
     ]
    }
   ],
   "source": [
    "def fib(n):\n",
    "    '''\\\n",
    "    Print Fibonacci series upto n.\n",
    "    '''\n",
    "    a, b = 0, 1\n",
    "    while a < n:\n",
    "        print(a, end=' ') # SEE https://docs.python.org/3/library/functions.html#print\n",
    "                          # end argument by default is \\n, here we have replaced it with ' '\n",
    "        a, b = b, a + b\n",
    "    \n",
    "# Calling fib function\n",
    "fib(200)"
   ]
  },
  {
   "cell_type": "markdown",
   "metadata": {},
   "source": [
    "The first statement of function body can optionally be a string literal with triple quoted string. It is documentation of the function or also called ```docstring```.\n",
    "\n",
    "Other programming languages, have concept of scope - meaning where a variable can be accessed or not. In Python scope is symbol table. The execution of a function introduces a new symbol table used for the local variables of the function. More precisely, all variable assignments in a function store the value in the local symbol table; whereas variable references first look in the local symbol table, then in the local symbol tables of enclosing functions, then in the global symbol table, and finally in the table of built-in names. Thus, global variables cannot be directly assigned a value within a function (unless named in a global statement), although they may be referenced."
   ]
  },
  {
   "cell_type": "code",
   "execution_count": 14,
   "metadata": {},
   "outputs": [
    {
     "name": "stdout",
     "output_type": "stream",
     "text": [
      "<function fib at 0x105166950>\n"
     ]
    },
    {
     "data": {
      "text/plain": [
       "function"
      ]
     },
     "execution_count": 14,
     "metadata": {},
     "output_type": "execute_result"
    }
   ],
   "source": [
    "print(fib)\n",
    "type(fib)"
   ]
  },
  {
   "cell_type": "markdown",
   "metadata": {},
   "source": [
    "When we define a function, Python adds function name to current symbol table. The value of function name is ```user-defined-function```. As mentioned previously, function are first class citizens in Python, so we can assign function to a variable."
   ]
  },
  {
   "cell_type": "code",
   "execution_count": 17,
   "metadata": {},
   "outputs": [
    {
     "name": "stdout",
     "output_type": "stream",
     "text": [
      "0 1 1 2 3 5 8 13 21 34 55 89 \n",
      "None\n"
     ]
    }
   ],
   "source": [
    "f = fib\n",
    "f(100)     # It can be thought of as a renaming mechanism.\n",
    "\n",
    "# Let's prove that Python function always returns a value, even if it's ```None```.\n",
    "print()    # For line break\n",
    "print(fib(0))"
   ]
  },
  {
   "cell_type": "markdown",
   "metadata": {},
   "source": [
    "### Default Arguments\n",
    "Python functions can have default values."
   ]
  },
  {
   "cell_type": "code",
   "execution_count": 27,
   "metadata": {},
   "outputs": [
    {
     "name": "stdout",
     "output_type": "stream",
     "text": [
      "height=2,width=5\n",
      "Rectangle area is 10 \n",
      "\n",
      "height=10,width=20\n",
      "Rectangle area is 200 \n",
      "\n",
      "height=3,width=3\n",
      "Rectangle area is 9 \n",
      "\n",
      "height=20,width=5\n",
      "Rectangle area is 100 \n",
      "\n",
      "height=20,width=5\n",
      "Rectangle area is 100 \n",
      "\n"
     ]
    }
   ],
   "source": [
    "def calculate_rect_area(height = 2, width = 5):\n",
    "    print('height', height, sep = '=', end = ',')\n",
    "    print('width', width, sep = '=')\n",
    "    return height * width\n",
    "\n",
    "# No args are passed, default values are used\n",
    "print('Rectangle area is', calculate_rect_area(), '\\n')\n",
    "\n",
    "# Arguments are passed in the order defined by the function, height first and then width\n",
    "print('Rectangle area is', calculate_rect_area(10, 20), '\\n')\n",
    "\n",
    "# Arguments are passed by name. NOTE: order of arguments is different from function definition.\n",
    "print('Rectangle area is', calculate_rect_area(width = 3, height = 3), '\\n')\n",
    "\n",
    "# If a keyword argument has been passed, non-keyword arguments cannot be passed.\n",
    "# print('Rectangle area is', calculate_rect_area(height=20, 10)) # SYNTAX ERROR\n",
    "\n",
    "print('Rectangle area is', calculate_rect_area(20), '\\n');\n",
    "print('Rectangle area is', calculate_rect_area(height=20), '\\n');"
   ]
  },
  {
   "cell_type": "markdown",
   "metadata": {},
   "source": [
    "**Default values are only evaluated once at the point of function definition in the defining scope.**"
   ]
  },
  {
   "cell_type": "code",
   "execution_count": 30,
   "metadata": {},
   "outputs": [
    {
     "name": "stdout",
     "output_type": "stream",
     "text": [
      "[1]\n",
      "[1, 2]\n",
      "[1, 2, 3]\n"
     ]
    }
   ],
   "source": [
    "def dummy(val, val_list=[]):\n",
    "    val_list.append(val)\n",
    "    print(val_list)\n",
    "\n",
    "dummy(1)\n",
    "dummy(2)\n",
    "dummy(3)"
   ]
  },
  {
   "cell_type": "code",
   "execution_count": 31,
   "metadata": {},
   "outputs": [
    {
     "name": "stdout",
     "output_type": "stream",
     "text": [
      "[1]\n",
      "[2]\n",
      "[3]\n"
     ]
    }
   ],
   "source": [
    "# TO AVOID THIS BEHAVIOR\n",
    "def dummy2(val, val_list=None):\n",
    "    if (val_list == None):\n",
    "        val_list = []\n",
    "    val_list.append(val)\n",
    "    print(val_list)\n",
    "\n",
    "dummy2(1)\n",
    "dummy2(2)\n",
    "dummy2(3)"
   ]
  },
  {
   "cell_type": "markdown",
   "metadata": {},
   "source": [
    "### Positional Vs Keyword Arguments\n",
    "If a function argument has not been given a name, it is positional argument. If a name and default value is given to an argument, then it is keyword argument.\n",
    "\n",
    "When calling such function, positional arguments must be passed first followed by keyword arguments. All the keyword arugments passed, must match one of the accepted arguments."
   ]
  },
  {
   "cell_type": "code",
   "execution_count": 38,
   "metadata": {},
   "outputs": [
    {
     "name": "stdout",
     "output_type": "stream",
     "text": [
      "Move object East by 10 in Slow mode\n",
      "Move object East by 10 in Fast mode\n"
     ]
    }
   ],
   "source": [
    "def move_object(distance, direction='East', mode='Slow'):\n",
    "    print(\"Move object\", direction, 'by', distance, 'in', mode, 'mode')\n",
    "    \n",
    "move_object(10)\n",
    "move_object(10, mode=\"Fast\")\n",
    "\n",
    "# If a keyword argument has been passed, non-keyword arguments cannot be passed.\n",
    "# move_object(distance=20, 'West')  # Syntax error\n",
    "\n",
    "# Keyword argument must match one of the keyword arguments.\n",
    "# move_object(10, speed=20) # TypeError - unexpected keyword argument\n",
    "\n",
    "# You cannot give one argument value more than once.\n",
    "# move_object(10, distance=10) # TypeError - got multiple values for argument 'distance'"
   ]
  },
  {
   "cell_type": "markdown",
   "metadata": {},
   "source": [
    "### Variadic Arguments\n",
    "Python functions can receive unknown number of arguments. Such arguments are called Variadic Arguments. These arguments are prefixed by ```*``` and usually the last argument, and function recieves the values in the form of a tuple.\n",
    "\n",
    "If variadic argument is not the last argument, then only keyword arguments can follow."
   ]
  },
  {
   "cell_type": "code",
   "execution_count": 51,
   "metadata": {},
   "outputs": [
    {
     "name": "stdout",
     "output_type": "stream",
     "text": [
      "3\n",
      "(1, 2, 3, 4)\n"
     ]
    },
    {
     "data": {
      "text/plain": [
       "30"
      ]
     },
     "execution_count": 51,
     "metadata": {},
     "output_type": "execute_result"
    }
   ],
   "source": [
    "def sum_and_multiply(factor, *nums):\n",
    "    print(factor)\n",
    "    print(nums)\n",
    "    sum = 0\n",
    "    for i in nums:\n",
    "        sum += i\n",
    "    return (sum * factor)\n",
    "\n",
    "sum_and_multiply(3, 1, 2, 3, 4)"
   ]
  },
  {
   "cell_type": "markdown",
   "metadata": {},
   "source": [
    "#### * and ** Arguments\n",
    "*args means multiple arguments will grouped into a tuple, and \\**args means arguments will grouped into a dictionary. "
   ]
  },
  {
   "cell_type": "code",
   "execution_count": 53,
   "metadata": {},
   "outputs": [
    {
     "name": "stdout",
     "output_type": "stream",
     "text": [
      "(1, 2, 3, 4, 5)\n",
      "5\n"
     ]
    },
    {
     "data": {
      "text/plain": [
       "3"
      ]
     },
     "execution_count": 53,
     "metadata": {},
     "output_type": "execute_result"
    }
   ],
   "source": [
    "def sum_product_factor(*values, divisor=2):\n",
    "    print(values)\n",
    "    print(divisor)\n",
    "    sum = 0\n",
    "    for i in values:\n",
    "        sum += i\n",
    "    return sum // divisor\n",
    "\n",
    "sum_product_factor(1, 2, 3, 4, 5, divisor=5)"
   ]
  },
  {
   "cell_type": "code",
   "execution_count": 56,
   "metadata": {},
   "outputs": [
    {
     "name": "stdout",
     "output_type": "stream",
     "text": [
      "Type of args is <class 'dict'>\n",
      "learn_python 300\n",
      "master_python 1200\n",
      "python_in_a_nutshell 1500\n",
      "java_reference 2000\n"
     ]
    }
   ],
   "source": [
    "def books_and_pages(**args):\n",
    "    print('Type of args is', type(args))\n",
    "    for book in args:\n",
    "        print(book, args[book])\n",
    "\n",
    "books_and_pages(\n",
    "    learn_python=300,\n",
    "    master_python=1200,\n",
    "    python_in_a_nutshell=1500,\n",
    "    java_reference=2000\n",
    ")"
   ]
  },
  {
   "cell_type": "markdown",
   "metadata": {},
   "source": [
    "### Unpacking Argument List"
   ]
  },
  {
   "cell_type": "code",
   "execution_count": 59,
   "metadata": {},
   "outputs": [
    {
     "data": {
      "text/plain": [
       "3"
      ]
     },
     "execution_count": 59,
     "metadata": {},
     "output_type": "execute_result"
    }
   ],
   "source": [
    "# Unpacking args - similar to spread operator in Javascript\n",
    "def sum(*args):\n",
    "    sum = 0\n",
    "    for i in args:\n",
    "        sum += i\n",
    "    return sum;\n",
    "\n",
    "values = list(range(3))\n",
    "sum(*values)"
   ]
  },
  {
   "cell_type": "markdown",
   "metadata": {},
   "source": [
    "## Lambda Expressions"
   ]
  }
 ],
 "metadata": {
  "kernelspec": {
   "display_name": "Python 3",
   "language": "python",
   "name": "python3"
  },
  "language_info": {
   "codemirror_mode": {
    "name": "ipython",
    "version": 3
   },
   "file_extension": ".py",
   "mimetype": "text/x-python",
   "name": "python",
   "nbconvert_exporter": "python",
   "pygments_lexer": "ipython3",
   "version": "3.6.5"
  }
 },
 "nbformat": 4,
 "nbformat_minor": 2
}
